{
 "cells": [
  {
   "cell_type": "code",
   "execution_count": null,
   "metadata": {},
   "outputs": [],
   "source": [
    "#below code is for using camera and uplaoding the files in our apk app"
   ]
  },
  {
   "cell_type": "code",
   "execution_count": null,
   "metadata": {},
   "outputs": [],
   "source": [
    "#1.paste this below code in App.js or App.tsx"
   ]
  },
  {
   "cell_type": "code",
   "execution_count": null,
   "metadata": {},
   "outputs": [],
   "source": [
    "#install libraires in terminal :\n",
    "\n",
    " - npm install react-native-image-picker\n"
   ]
  },
  {
   "cell_type": "code",
   "execution_count": null,
   "metadata": {},
   "outputs": [],
   "source": [
    "// app.tsx\n",
    "import React, { useState } from 'react';\n",
    "import { View, Text, Button, Image, StyleSheet, SafeAreaView } from 'react-native';\n",
    "import { launchCamera, launchImageLibrary, ImagePickerResponse } from 'react-native-image-picker';\n",
    "\n",
    "const App: React.FC = () => {\n",
    "  // State to store the image URI\n",
    "  const [imageUri, setImageUri] = useState<string | null>(null);\n",
    "\n",
    "  // Function to handle selecting an image from the gallery\n",
    "  const selectImage = () => {\n",
    "    launchImageLibrary({}, (response: ImagePickerResponse) => {\n",
    "      if (response.assets && response.assets.length > 0) {\n",
    "        setImageUri(response.assets[0].uri || null);\n",
    "      }\n",
    "    });\n",
    "  };\n",
    "\n",
    "  // Function to handle taking a picture with the camera\n",
    "  const takePicture = () => {\n",
    "    launchCamera({}, (response: ImagePickerResponse) => {\n",
    "      if (response.assets && response.assets.length > 0) {\n",
    "        setImageUri(response.assets[0].uri || null);\n",
    "      }\n",
    "    });\n",
    "  };\n",
    "\n",
    "  return (\n",
    "    <SafeAreaView style={styles.container}>\n",
    "      <View style={styles.innerContainer}>\n",
    "        {imageUri ? (\n",
    "          <Image source={{ uri: imageUri }} style={styles.image} />\n",
    "        ) : (\n",
    "          <Text style={styles.text}>No image selected</Text>\n",
    "        )}\n",
    "        <Button title=\"Select Image from Library\" onPress={selectImage} />\n",
    "        <Button title=\"Take a Picture\" onPress={takePicture} />\n",
    "      </View>\n",
    "    </SafeAreaView>\n",
    "  );\n",
    "};\n",
    "\n",
    "// Styles for the components\n",
    "const styles = StyleSheet.create({\n",
    "  container: {\n",
    "    flex: 1,\n",
    "    justifyContent: 'center',\n",
    "    alignItems: 'center',\n",
    "    backgroundColor: '#f5f5f5',\n",
    "  },\n",
    "  innerContainer: {\n",
    "    alignItems: 'center',\n",
    "  },\n",
    "  text: {\n",
    "    fontSize: 20,\n",
    "    marginBottom: 20,\n",
    "  },\n",
    "  image: {\n",
    "    width: 300,\n",
    "    height: 300,\n",
    "    marginBottom: 20,\n",
    "  },\n",
    "});\n",
    "\n",
    "export default App;\n"
   ]
  },
  {
   "cell_type": "code",
   "execution_count": null,
   "metadata": {},
   "outputs": [],
   "source": [
    "#2. add this permissions in \"\"\"AndroidManifest.xml\"\"\"\n",
    "\n",
    "android/\n",
    "├── app/\n",
    "│   ├── build.gradle\n",
    "│   ├── src/\n",
    "│   │   ├── main/\n",
    "│   │   │   ├── AndroidManifest.xml\n",
    "│   │   │   ├── java/\n",
    "│   │   │   └── res/\n",
    "│   │   └── ...\n",
    "└── ...\n",
    "\n",
    "# for android :\n",
    "\n",
    "<uses-permission android:name=\"android.permission.CAMERA\" />\n",
    "<uses-permission android:name=\"android.permission.READ_EXTERNAL_STORAGE\" />\n",
    "\n",
    "\n",
    "#ios :\n",
    "\n",
    "<key>NSCameraUsageDescription</key>\n",
    "<string>We need access to your camera to scan images.</string>\n",
    "<key>NSPhotoLibraryUsageDescription</key>\n",
    "<string>We need access to your photo library to upload images.</string>\n"
   ]
  },
  {
   "cell_type": "code",
   "execution_count": null,
   "metadata": {},
   "outputs": [],
   "source": [
    "#3. now the machine/app:\n",
    "\n",
    "\n",
    "npm start \n",
    "\n",
    "or\n",
    "\n",
    "npx react-native start\n",
    "\n",
    "or \n",
    "\n",
    "npx react-native run-android\n"
   ]
  }
 ],
 "metadata": {
  "language_info": {
   "name": "python"
  }
 },
 "nbformat": 4,
 "nbformat_minor": 2
}
