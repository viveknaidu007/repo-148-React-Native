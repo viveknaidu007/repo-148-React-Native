{
 "cells": [
  {
   "cell_type": "code",
   "execution_count": null,
   "metadata": {},
   "outputs": [],
   "source": []
  },
  {
   "cell_type": "markdown",
   "metadata": {},
   "source": [
    "# software intsallation for react native CIL"
   ]
  },
  {
   "cell_type": "markdown",
   "metadata": {},
   "source": [
    "1. NodeJS 12 or above version\n",
    "https://nodejs.org/en/download\n",
    "\n",
    "2. JDK8 or above version\n",
    "https://www.oracle.com/java/technologies/downlaods\n",
    "\n",
    "3. Android Studio\n",
    "https://developer.android.com/studio\n",
    "\n",
    "Refernce:https://www.develoeprs-zone/start-react-native-without-expo"
   ]
  },
  {
   "cell_type": "code",
   "execution_count": null,
   "metadata": {},
   "outputs": [],
   "source": []
  }
 ],
 "metadata": {
  "language_info": {
   "name": "python"
  }
 },
 "nbformat": 4,
 "nbformat_minor": 2
}
